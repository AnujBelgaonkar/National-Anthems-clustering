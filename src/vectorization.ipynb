{
 "cells": [
  {
   "cell_type": "code",
   "execution_count": 13,
   "metadata": {},
   "outputs": [],
   "source": [
    "from sklearn.feature_extraction.text import TfidfVectorizer\n",
    "import pandas as pd\n",
    "import pickle"
   ]
  },
  {
   "cell_type": "code",
   "execution_count": 14,
   "metadata": {},
   "outputs": [],
   "source": [
    "data = pd.read_csv(r\"E:\\Projects\\National Anthems\\data\\processed_anthems.csv\")"
   ]
  },
  {
   "cell_type": "code",
   "execution_count": 15,
   "metadata": {},
   "outputs": [
    {
     "data": {
      "text/html": [
       "<div>\n",
       "<style scoped>\n",
       "    .dataframe tbody tr th:only-of-type {\n",
       "        vertical-align: middle;\n",
       "    }\n",
       "\n",
       "    .dataframe tbody tr th {\n",
       "        vertical-align: top;\n",
       "    }\n",
       "\n",
       "    .dataframe thead th {\n",
       "        text-align: right;\n",
       "    }\n",
       "</style>\n",
       "<table border=\"1\" class=\"dataframe\">\n",
       "  <thead>\n",
       "    <tr style=\"text-align: right;\">\n",
       "      <th></th>\n",
       "      <th>Country</th>\n",
       "      <th>Alpha-2</th>\n",
       "      <th>Alpha-3</th>\n",
       "      <th>Continent</th>\n",
       "      <th>Anthem</th>\n",
       "      <th>Proessed_Anthem</th>\n",
       "    </tr>\n",
       "  </thead>\n",
       "  <tbody>\n",
       "    <tr>\n",
       "      <th>0</th>\n",
       "      <td>Albania</td>\n",
       "      <td>AL</td>\n",
       "      <td>ALB</td>\n",
       "      <td>Europe</td>\n",
       "      <td>Around our flag we stand united, With one wish...</td>\n",
       "      <td>flag stand united goal sacred oath bestow proc...</td>\n",
       "    </tr>\n",
       "    <tr>\n",
       "      <th>1</th>\n",
       "      <td>Armenia</td>\n",
       "      <td>AM</td>\n",
       "      <td>ARM</td>\n",
       "      <td>Europe</td>\n",
       "      <td>Our Fatherland, free, independent, That has fo...</td>\n",
       "      <td>fatherland free independent century live summo...</td>\n",
       "    </tr>\n",
       "    <tr>\n",
       "      <th>2</th>\n",
       "      <td>Austria</td>\n",
       "      <td>AT</td>\n",
       "      <td>AUT</td>\n",
       "      <td>Europe</td>\n",
       "      <td>Land of mountains, land by the river, Land of ...</td>\n",
       "      <td>land mountain land river land field land cathe...</td>\n",
       "    </tr>\n",
       "    <tr>\n",
       "      <th>3</th>\n",
       "      <td>Azerbaijan</td>\n",
       "      <td>AZ</td>\n",
       "      <td>AZE</td>\n",
       "      <td>Europe</td>\n",
       "      <td>Azerbaijan, Azerbaijan! The glorious Fatherlan...</td>\n",
       "      <td>glorious fatherland valorous father stand read...</td>\n",
       "    </tr>\n",
       "    <tr>\n",
       "      <th>4</th>\n",
       "      <td>Belarus</td>\n",
       "      <td>BY</td>\n",
       "      <td>BLR</td>\n",
       "      <td>Europe</td>\n",
       "      <td>We, Belarusians, are peaceful people, Wholehea...</td>\n",
       "      <td>belarusian peaceful people wholeheartedly devo...</td>\n",
       "    </tr>\n",
       "    <tr>\n",
       "      <th>...</th>\n",
       "      <td>...</td>\n",
       "      <td>...</td>\n",
       "      <td>...</td>\n",
       "      <td>...</td>\n",
       "      <td>...</td>\n",
       "      <td>...</td>\n",
       "    </tr>\n",
       "    <tr>\n",
       "      <th>185</th>\n",
       "      <td>Tunisia</td>\n",
       "      <td>TN</td>\n",
       "      <td>TUN</td>\n",
       "      <td>Africa</td>\n",
       "      <td>O defenders of the Homeland! Rally around to t...</td>\n",
       "      <td>defender homeland rally glory time blood surge...</td>\n",
       "    </tr>\n",
       "    <tr>\n",
       "      <th>186</th>\n",
       "      <td>Uganda</td>\n",
       "      <td>UG</td>\n",
       "      <td>UGA</td>\n",
       "      <td>Africa</td>\n",
       "      <td>Oh Uganda! May God uphold Thee, We lay our fut...</td>\n",
       "      <td>god uphold lay future thy hand unite free libe...</td>\n",
       "    </tr>\n",
       "    <tr>\n",
       "      <th>187</th>\n",
       "      <td>Western Sahara</td>\n",
       "      <td>EH</td>\n",
       "      <td>ESH</td>\n",
       "      <td>Africa</td>\n",
       "      <td>O sons of the Sahara! In the battlefield, you ...</td>\n",
       "      <td>son sahara battlefield torch holder long road ...</td>\n",
       "    </tr>\n",
       "    <tr>\n",
       "      <th>188</th>\n",
       "      <td>Zambia</td>\n",
       "      <td>ZM</td>\n",
       "      <td>ZMB</td>\n",
       "      <td>Africa</td>\n",
       "      <td>Stand and sing of Zambia, proud and free, Land...</td>\n",
       "      <td>stand sing proud free land work joy unity vict...</td>\n",
       "    </tr>\n",
       "    <tr>\n",
       "      <th>189</th>\n",
       "      <td>Zimbabwe</td>\n",
       "      <td>ZW</td>\n",
       "      <td>ZWE</td>\n",
       "      <td>Africa</td>\n",
       "      <td>Oh lift high the banner, the flag of Zimbabwe ...</td>\n",
       "      <td>lift high banner flag symbol freedom proclaim ...</td>\n",
       "    </tr>\n",
       "  </tbody>\n",
       "</table>\n",
       "<p>190 rows × 6 columns</p>\n",
       "</div>"
      ],
      "text/plain": [
       "            Country Alpha-2 Alpha-3 Continent  \\\n",
       "0           Albania      AL     ALB    Europe   \n",
       "1           Armenia      AM     ARM    Europe   \n",
       "2           Austria      AT     AUT    Europe   \n",
       "3        Azerbaijan      AZ     AZE    Europe   \n",
       "4           Belarus      BY     BLR    Europe   \n",
       "..              ...     ...     ...       ...   \n",
       "185         Tunisia      TN     TUN    Africa   \n",
       "186          Uganda      UG     UGA    Africa   \n",
       "187  Western Sahara      EH     ESH    Africa   \n",
       "188          Zambia      ZM     ZMB    Africa   \n",
       "189        Zimbabwe      ZW     ZWE    Africa   \n",
       "\n",
       "                                                Anthem  \\\n",
       "0    Around our flag we stand united, With one wish...   \n",
       "1    Our Fatherland, free, independent, That has fo...   \n",
       "2    Land of mountains, land by the river, Land of ...   \n",
       "3    Azerbaijan, Azerbaijan! The glorious Fatherlan...   \n",
       "4    We, Belarusians, are peaceful people, Wholehea...   \n",
       "..                                                 ...   \n",
       "185  O defenders of the Homeland! Rally around to t...   \n",
       "186  Oh Uganda! May God uphold Thee, We lay our fut...   \n",
       "187  O sons of the Sahara! In the battlefield, you ...   \n",
       "188  Stand and sing of Zambia, proud and free, Land...   \n",
       "189  Oh lift high the banner, the flag of Zimbabwe ...   \n",
       "\n",
       "                                       Proessed_Anthem  \n",
       "0    flag stand united goal sacred oath bestow proc...  \n",
       "1    fatherland free independent century live summo...  \n",
       "2    land mountain land river land field land cathe...  \n",
       "3    glorious fatherland valorous father stand read...  \n",
       "4    belarusian peaceful people wholeheartedly devo...  \n",
       "..                                                 ...  \n",
       "185  defender homeland rally glory time blood surge...  \n",
       "186  god uphold lay future thy hand unite free libe...  \n",
       "187  son sahara battlefield torch holder long road ...  \n",
       "188  stand sing proud free land work joy unity vict...  \n",
       "189  lift high banner flag symbol freedom proclaim ...  \n",
       "\n",
       "[190 rows x 6 columns]"
      ]
     },
     "execution_count": 15,
     "metadata": {},
     "output_type": "execute_result"
    }
   ],
   "source": [
    "data"
   ]
  },
  {
   "cell_type": "code",
   "execution_count": 16,
   "metadata": {},
   "outputs": [],
   "source": [
    "corpus = data['Proessed_Anthem']"
   ]
  },
  {
   "cell_type": "code",
   "execution_count": 17,
   "metadata": {},
   "outputs": [
    {
     "data": {
      "text/plain": [
       "0      flag stand united goal sacred oath bestow proc...\n",
       "1      fatherland free independent century live summo...\n",
       "2      land mountain land river land field land cathe...\n",
       "3      glorious fatherland valorous father stand read...\n",
       "4      belarusian peaceful people wholeheartedly devo...\n",
       "                             ...                        \n",
       "185    defender homeland rally glory time blood surge...\n",
       "186    god uphold lay future thy hand unite free libe...\n",
       "187    son sahara battlefield torch holder long road ...\n",
       "188    stand sing proud free land work joy unity vict...\n",
       "189    lift high banner flag symbol freedom proclaim ...\n",
       "Name: Proessed_Anthem, Length: 190, dtype: object"
      ]
     },
     "execution_count": 17,
     "metadata": {},
     "output_type": "execute_result"
    }
   ],
   "source": [
    "corpus"
   ]
  },
  {
   "cell_type": "code",
   "execution_count": 18,
   "metadata": {},
   "outputs": [],
   "source": [
    "vectorizer = TfidfVectorizer()\n",
    "vectors = vectorizer.fit_transform(corpus)"
   ]
  },
  {
   "cell_type": "code",
   "execution_count": 19,
   "metadata": {},
   "outputs": [],
   "source": [
    "vectors = vectors.toarray()"
   ]
  },
  {
   "cell_type": "code",
   "execution_count": 20,
   "metadata": {},
   "outputs": [
    {
     "data": {
      "text/plain": [
       "array([[0.        , 0.        , 0.        , ..., 0.        , 0.        ,\n",
       "        0.        ],\n",
       "       [0.        , 0.        , 0.        , ..., 0.        , 0.        ,\n",
       "        0.        ],\n",
       "       [0.        , 0.        , 0.        , ..., 0.        , 0.        ,\n",
       "        0.        ],\n",
       "       ...,\n",
       "       [0.10199437, 0.        , 0.        , ..., 0.        , 0.        ,\n",
       "        0.        ],\n",
       "       [0.        , 0.        , 0.        , ..., 0.        , 0.        ,\n",
       "        0.        ],\n",
       "       [0.        , 0.        , 0.        , ..., 0.        , 0.        ,\n",
       "        0.        ]])"
      ]
     },
     "execution_count": 20,
     "metadata": {},
     "output_type": "execute_result"
    }
   ],
   "source": [
    "vectors"
   ]
  },
  {
   "cell_type": "code",
   "execution_count": 21,
   "metadata": {},
   "outputs": [],
   "source": [
    "tf_idf = pd.DataFrame(data = vectors, columns = vectorizer.get_feature_names_out())"
   ]
  },
  {
   "cell_type": "code",
   "execution_count": 22,
   "metadata": {},
   "outputs": [
    {
     "name": "stdout",
     "output_type": "stream",
     "text": [
      "(190, 2796) rows\n"
     ]
    }
   ],
   "source": [
    "print(\"{} rows\".format(tf_idf.shape))"
   ]
  },
  {
   "cell_type": "code",
   "execution_count": 23,
   "metadata": {},
   "outputs": [],
   "source": [
    "with open(r'E:\\Projects\\National Anthems\\artifacts\\tfidf_vectorizer.pkl', 'wb') as file:\n",
    "    pickle.dump(vectorizer, file)"
   ]
  },
  {
   "cell_type": "code",
   "execution_count": 24,
   "metadata": {},
   "outputs": [],
   "source": [
    "tf_idf.to_csv(r\"E:\\Projects\\National Anthems\\data\\vectors.csv\",index = False)"
   ]
  },
  {
   "cell_type": "code",
   "execution_count": null,
   "metadata": {},
   "outputs": [],
   "source": []
  }
 ],
 "metadata": {
  "kernelspec": {
   "display_name": "Python 3",
   "language": "python",
   "name": "python3"
  },
  "language_info": {
   "codemirror_mode": {
    "name": "ipython",
    "version": 3
   },
   "file_extension": ".py",
   "mimetype": "text/x-python",
   "name": "python",
   "nbconvert_exporter": "python",
   "pygments_lexer": "ipython3",
   "version": "3.11.3"
  }
 },
 "nbformat": 4,
 "nbformat_minor": 2
}
